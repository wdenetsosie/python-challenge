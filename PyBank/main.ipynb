{
 "cells": [
  {
   "cell_type": "code",
   "execution_count": 1,
   "id": "b1132d00-e2ea-4c3c-b661-610e4a5d71d2",
   "metadata": {},
   "outputs": [],
   "source": [
    "#import libraries\n",
    "from pathlib import Path\n",
    "import csv"
   ]
  },
  {
   "cell_type": "code",
   "execution_count": 2,
   "id": "ea792b0e-3865-4b89-8be2-1d5c8b3baf74",
   "metadata": {},
   "outputs": [],
   "source": [
    "#set path of file\n",
    "csvpath=Path('../PyBank/Resources/budget_data.csv')"
   ]
  },
  {
   "cell_type": "code",
   "execution_count": 16,
   "id": "b9029c86-efbc-4d76-8d1d-29827154fb0f",
   "metadata": {},
   "outputs": [],
   "source": [
    "net_profit = 0\n",
    "net_change_list = []\n",
    "net_change = 0\n",
    "previous_net_change = 0\n",
    "month_max_increase = []\n",
    "month_max_decrease = []\n",
    "    \n",
    "#open input path as file object - csv\n",
    "with open(csvpath,'r') as csvfile:\n",
    "    csvreader=csv.reader(csvfile, delimiter=',')\n",
    "    header = next(csvreader)\n",
    "    row1 = next(csvreader)\n",
    "    line_num=0\n",
    "    profit_losses = 0\n",
    "    total_profit_losses = 0\n",
    "    min_net_change = 0\n",
    "    max_net_change = 0\n",
    "\n",
    "    net_profit = net_profit + int(row1[1])\n",
    "    previous_net = int(row1[1])\n",
    "\n",
    "# for loop to iterate rows\n",
    "    for row in csvreader:\n",
    "        line_num += 1\n",
    "        profit_losses = int(row[1])\n",
    "        total_profit_losses += profit_losses\n",
    "        net_profit = net_profit + int(row[1])\n",
    "        \n",
    "        #calculate monthly change and create monthly change list\n",
    "        net_change = int(row[1]) - previous_net\n",
    "        previous_net = int(row[1])\n",
    "        net_change_list = net_change_list + [net_change]\n",
    "    \n",
    "        #calculate average_net_change (= sum(last_net_change_list) / len(net_change_list))\n",
    "        average_net_change = sum(net_change_list) / len(net_change_list)\n",
    "        \n",
    "        #determine greatest increase and decrease in profits\n",
    "        max_increase = max(net_change_list)\n",
    "        max_decrease = min(net_change_list)\n",
    "        \n",
    "        if net_change == max(net_change_list):\n",
    "            month_max_increase = row[0]\n",
    "        elif net_change == min(net_change_list):\n",
    "                month_max_decrease = row[0]\n"
   ]
  },
  {
   "cell_type": "code",
   "execution_count": 5,
   "id": "ba9bf15d-cc3b-4717-8804-cd474c8b7007",
   "metadata": {},
   "outputs": [
    {
     "name": "stdout",
     "output_type": "stream",
     "text": [
      "Financial Analysis\n",
      "\n",
      "----------------------------------------------------------\n",
      "\n",
      "Sum total of profit and losses:   $37,514,694.00\n",
      "\n",
      "Total number of months:   85\n",
      "\n",
      "Average change:   $-2,315.12\n",
      "\n",
      "Greatest Increase in Profits:   $1,926,159.00\n",
      "\n",
      "Greatest Decrease in Profits:   $-2,196,167.00\n"
     ]
    }
   ],
   "source": [
    "print(\"Financial Analysis\")\n",
    "print()\n",
    "print(\"----------------------------------------------------------\")\n",
    "print()\n",
    "print(\"Sum total of profit and losses:  \",'${:,.2f}'.format(total_profit_losses))\n",
    "print()\n",
    "print(\"Total number of months:  \",line_num)\n",
    "print()\n",
    "print(\"Average change:  \",'${:,.2f}'.format(average_net_change))\n",
    "print()\n",
    "print(\"Greatest Increase in Profits:  \",'${:,.2f}'.format(max_increase),\"   \",        print(month_max_increase)\n",
    "        print(month_max_decrease))\n",
    "print()\n",
    "print(\"Greatest Decrease in Profits:  \", '${:,.2f}'.format(max_decrease))"
   ]
  },
  {
   "cell_type": "code",
   "execution_count": null,
   "id": "44c6d7cc-9847-43d0-975b-3b4675624df4",
   "metadata": {},
   "outputs": [],
   "source": []
  }
 ],
 "metadata": {
  "kernelspec": {
   "display_name": "Python 3 (ipykernel)",
   "language": "python",
   "name": "python3"
  },
  "language_info": {
   "codemirror_mode": {
    "name": "ipython",
    "version": 3
   },
   "file_extension": ".py",
   "mimetype": "text/x-python",
   "name": "python",
   "nbconvert_exporter": "python",
   "pygments_lexer": "ipython3",
   "version": "3.9.12"
  }
 },
 "nbformat": 4,
 "nbformat_minor": 5
}
