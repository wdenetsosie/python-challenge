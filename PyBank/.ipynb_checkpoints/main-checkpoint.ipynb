{
 "cells": [
  {
   "cell_type": "code",
   "execution_count": 5,
   "id": "b1132d00-e2ea-4c3c-b661-610e4a5d71d2",
   "metadata": {},
   "outputs": [],
   "source": [
    "#import libraries\n",
    "from pathlib import Path\n",
    "import csv"
   ]
  },
  {
   "cell_type": "code",
   "execution_count": 16,
   "id": "ea792b0e-3865-4b89-8be2-1d5c8b3baf74",
   "metadata": {},
   "outputs": [
    {
     "data": {
      "text/plain": [
       "PosixPath('../PyBank/Resources/budget_data.csv')"
      ]
     },
     "execution_count": 16,
     "metadata": {},
     "output_type": "execute_result"
    }
   ],
   "source": [
    "#set path of file\n",
    "csvpath=Path('../PyBank/Resources/budget_data.csv')\n",
    "csvpath"
   ]
  },
  {
   "cell_type": "raw",
   "id": "9ca9c609-b662-4097-afdc-5aa48f62c3a1",
   "metadata": {},
   "source": [
    "#hold profit/losses in a list\n",
    "profit_losses = []"
   ]
  },
  {
   "cell_type": "code",
   "execution_count": 8,
   "id": "e282e8ce-4e00-41ca-b3a8-4a4f3699a5ab",
   "metadata": {},
   "outputs": [],
   "source": [
    "#initialize the line count\n",
    "line_num=0"
   ]
  },
  {
   "cell_type": "code",
   "execution_count": 2,
   "id": "b9029c86-efbc-4d76-8d1d-29827154fb0f",
   "metadata": {},
   "outputs": [
    {
     "ename": "NameError",
     "evalue": "name 'csvpath' is not defined",
     "output_type": "error",
     "traceback": [
      "\u001b[0;31m---------------------------------------------------------------------------\u001b[0m",
      "\u001b[0;31mNameError\u001b[0m                                 Traceback (most recent call last)",
      "Input \u001b[0;32mIn [2]\u001b[0m, in \u001b[0;36m<cell line: 2>\u001b[0;34m()\u001b[0m\n\u001b[1;32m      1\u001b[0m \u001b[38;5;66;03m#open input path as file object - csv\u001b[39;00m\n\u001b[0;32m----> 2\u001b[0m \u001b[38;5;28;01mwith\u001b[39;00m \u001b[38;5;28mopen\u001b[39m(\u001b[43mcsvpath\u001b[49m,\u001b[38;5;124m'\u001b[39m\u001b[38;5;124mr\u001b[39m\u001b[38;5;124m'\u001b[39m) \u001b[38;5;28;01mas\u001b[39;00m csvfile:\n\u001b[1;32m      3\u001b[0m     csvreader\u001b[38;5;241m=\u001b[39mcsv\u001b[38;5;241m.\u001b[39mreader(csvfile,delimiter\u001b[38;5;241m=\u001b[39m\u001b[38;5;124m'\u001b[39m\u001b[38;5;124m,\u001b[39m\u001b[38;5;124m'\u001b[39m)\n",
      "\u001b[0;31mNameError\u001b[0m: name 'csvpath' is not defined"
     ]
    }
   ],
   "source": [
    "#open input path as file object - csv\n",
    "with open(csvpath,'r') as csvfile:\n",
    "    csvreader=csv.reader(csvfile,delimiter=',')"
   ]
  },
  {
   "cell_type": "code",
   "execution_count": 2,
   "id": "be2ab7c3-ce43-48a8-8440-74904b92d322",
   "metadata": {},
   "outputs": [
    {
     "ename": "NameError",
     "evalue": "name 'csv' is not defined",
     "output_type": "error",
     "traceback": [
      "\u001b[0;31m---------------------------------------------------------------------------\u001b[0m",
      "\u001b[0;31mNameError\u001b[0m                                 Traceback (most recent call last)",
      "Input \u001b[0;32mIn [5]\u001b[0m, in \u001b[0;36m<cell line: 2>\u001b[0;34m()\u001b[0m\n\u001b[1;32m      1\u001b[0m \u001b[38;5;66;03m#skip the header\u001b[39;00m\n\u001b[0;32m----> 2\u001b[0m header\u001b[38;5;241m=\u001b[39m\u001b[38;5;28mnext\u001b[39m(\u001b[43mcsv\u001b[49m\u001b[38;5;241m.\u001b[39mreader(csvfile,delimiter\u001b[38;5;241m=\u001b[39m\u001b[38;5;124m'\u001b[39m\u001b[38;5;124m,\u001b[39m\u001b[38;5;124m'\u001b[39m))\n\u001b[1;32m      3\u001b[0m line_num\u001b[38;5;241m+\u001b[39m\u001b[38;5;241m=\u001b[39m\u001b[38;5;241m1\u001b[39m\n",
      "\u001b[0;31mNameError\u001b[0m: name 'csv' is not defined"
     ]
    }
   ],
   "source": [
    "#skip the header\n",
    "header=next(csvreader)\n",
    "line_num+=1"
   ]
  },
  {
   "cell_type": "code",
   "execution_count": null,
   "id": "c47a3ad8-c3ee-4871-bc8e-54b970101a0c",
   "metadata": {},
   "outputs": [],
   "source": []
  }
 ],
 "metadata": {
  "kernelspec": {
   "display_name": "Python 3 (ipykernel)",
   "language": "python",
   "name": "python3"
  },
  "language_info": {
   "codemirror_mode": {
    "name": "ipython",
    "version": 3
   },
   "file_extension": ".py",
   "mimetype": "text/x-python",
   "name": "python",
   "nbconvert_exporter": "python",
   "pygments_lexer": "ipython3",
   "version": "3.9.12"
  }
 },
 "nbformat": 4,
 "nbformat_minor": 5
}
