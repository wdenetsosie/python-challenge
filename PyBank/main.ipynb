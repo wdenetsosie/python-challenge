{
 "cells": [
  {
   "cell_type": "code",
   "execution_count": 1,
   "id": "b1132d00-e2ea-4c3c-b661-610e4a5d71d2",
   "metadata": {},
   "outputs": [],
   "source": [
    "#import libraries\n",
    "from pathlib import Path\n",
    "import csv"
   ]
  },
  {
   "cell_type": "code",
   "execution_count": 2,
   "id": "ea792b0e-3865-4b89-8be2-1d5c8b3baf74",
   "metadata": {},
   "outputs": [],
   "source": [
    "#set path of file\n",
    "csvpath=Path('../PyBank/Resources/budget_data.csv')"
   ]
  },
  {
   "cell_type": "raw",
   "id": "9ca9c609-b662-4097-afdc-5aa48f62c3a1",
   "metadata": {},
   "source": [
    "#hold profit/losses and month in a list\n",
    "\n",
    "month = []\n",
    "#initialize the line count\n",
    "#line_num = 0"
   ]
  },
  {
   "cell_type": "code",
   "execution_count": 27,
   "id": "b9029c86-efbc-4d76-8d1d-29827154fb0f",
   "metadata": {},
   "outputs": [
    {
     "name": "stdout",
     "output_type": "stream",
     "text": [
      "Financial Analysis\n",
      "\n",
      "----------------------------------------------------------\n",
      "\n",
      "Sum total of profit and losses:   $38,382,578.00\n",
      "Total number of months:   86\n"
     ]
    }
   ],
   "source": [
    "#open input path as file object - csv\n",
    "with open(csvpath,'r') as csvfile:\n",
    "    line_num=0\n",
    "    profit_losses = 0\n",
    "    total_profit_losses = 0\n",
    "    csvreader=csv.reader(csvfile, delimiter=',')\n",
    "    #skip the header\n",
    "    header = next(csvreader)\n",
    "\n",
    "# for loop to iterate rows\n",
    "    for row in csvreader:\n",
    "        line_num += 1\n",
    "        profit_losses = int(row[1])\n",
    "        total_profit_losses += profit_losses\n",
    "\n",
    "print(\"Financial Analysis\")\n",
    "print()\n",
    "print(\"----------------------------------------------------------\")\n",
    "print()\n",
    "print(\"Sum total of profit and losses:  \",'${:,.2f}'.format(total_profit_losses))\n",
    "print(\"Total number of months:  \",line_num)"
   ]
  },
  {
   "cell_type": "code",
   "execution_count": null,
   "id": "ba9bf15d-cc3b-4717-8804-cd474c8b7007",
   "metadata": {},
   "outputs": [],
   "source": []
  }
 ],
 "metadata": {
  "kernelspec": {
   "display_name": "Python 3 (ipykernel)",
   "language": "python",
   "name": "python3"
  },
  "language_info": {
   "codemirror_mode": {
    "name": "ipython",
    "version": 3
   },
   "file_extension": ".py",
   "mimetype": "text/x-python",
   "name": "python",
   "nbconvert_exporter": "python",
   "pygments_lexer": "ipython3",
   "version": "3.9.12"
  }
 },
 "nbformat": 4,
 "nbformat_minor": 5
}
