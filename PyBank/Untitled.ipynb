{
 "cells": [
  {
   "cell_type": "code",
   "execution_count": 1,
   "id": "dfd5680c-a5db-405c-b08e-48f45ed095ed",
   "metadata": {},
   "outputs": [],
   "source": [
    "from pathlib import Path\n",
    "import csv"
   ]
  },
  {
   "cell_type": "code",
   "execution_count": 2,
   "id": "c88dd1e6-d3c8-42e9-a874-04f36c036049",
   "metadata": {},
   "outputs": [],
   "source": [
    "csvpath=Path('../PyBank/Resources/budget_data.csv')"
   ]
  },
  {
   "cell_type": "code",
   "execution_count": 3,
   "id": "25e38d04-594d-45a0-84dc-402700f8d8f8",
   "metadata": {},
   "outputs": [],
   "source": [
    "total_profit = 0"
   ]
  },
  {
   "cell_type": "code",
   "execution_count": 4,
   "id": "1eb1ac17-6041-4ac9-8720-7052af4e38b9",
   "metadata": {},
   "outputs": [],
   "source": [
    "with open(csvpath,'r') as csvfile:\n",
    "    csvreader=csv.reader(csvfile, delimiter=',')\n",
    "    "
   ]
  },
  {
   "cell_type": "code",
   "execution_count": null,
   "id": "af4146ad-4071-4bcd-ad27-80c37060ca52",
   "metadata": {},
   "outputs": [],
   "source": []
  }
 ],
 "metadata": {
  "kernelspec": {
   "display_name": "Python 3 (ipykernel)",
   "language": "python",
   "name": "python3"
  },
  "language_info": {
   "codemirror_mode": {
    "name": "ipython",
    "version": 3
   },
   "file_extension": ".py",
   "mimetype": "text/x-python",
   "name": "python",
   "nbconvert_exporter": "python",
   "pygments_lexer": "ipython3",
   "version": "3.9.12"
  }
 },
 "nbformat": 4,
 "nbformat_minor": 5
}
